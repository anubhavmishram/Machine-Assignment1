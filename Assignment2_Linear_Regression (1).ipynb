{
  "cells": [
    {
      "cell_type": "code",
      "execution_count": 2,
      "metadata": {
        "id": "QHk8a0uFh6cX"
      },
      "outputs": [
        {
          "ename": "FileNotFoundError",
          "evalue": "[Errno 2] No such file or directory: '/content/x_test.npy'",
          "output_type": "error",
          "traceback": [
            "\u001b[1;31m---------------------------------------------------------------------------\u001b[0m",
            "\u001b[1;31mFileNotFoundError\u001b[0m                         Traceback (most recent call last)",
            "\u001b[1;32mc:\\Users\\anubh\\Documents\\Machine Learning\\Assignment 1\\Assignment2_Linear_Regression (1).ipynb Cell 1\u001b[0m in \u001b[0;36m<cell line: 4>\u001b[1;34m()\u001b[0m\n\u001b[0;32m      <a href='vscode-notebook-cell:/c%3A/Users/anubh/Documents/Machine%20Learning/Assignment%201/Assignment2_Linear_Regression%20%281%29.ipynb#W0sZmlsZQ%3D%3D?line=0'>1</a>\u001b[0m \u001b[39mimport\u001b[39;00m \u001b[39mnumpy\u001b[39;00m \u001b[39mas\u001b[39;00m \u001b[39mnp\u001b[39;00m\n\u001b[0;32m      <a href='vscode-notebook-cell:/c%3A/Users/anubh/Documents/Machine%20Learning/Assignment%201/Assignment2_Linear_Regression%20%281%29.ipynb#W0sZmlsZQ%3D%3D?line=1'>2</a>\u001b[0m \u001b[39mimport\u001b[39;00m \u001b[39mmatplotlib\u001b[39;00m\u001b[39m.\u001b[39;00m\u001b[39mpyplot\u001b[39;00m \u001b[39mas\u001b[39;00m \u001b[39mplt\u001b[39;00m\n\u001b[1;32m----> <a href='vscode-notebook-cell:/c%3A/Users/anubh/Documents/Machine%20Learning/Assignment%201/Assignment2_Linear_Regression%20%281%29.ipynb#W0sZmlsZQ%3D%3D?line=3'>4</a>\u001b[0m file_x_test \u001b[39m=\u001b[39m np\u001b[39m.\u001b[39;49mload(\u001b[39m'\u001b[39;49m\u001b[39m/content/x_test.npy\u001b[39;49m\u001b[39m'\u001b[39;49m)\n\u001b[0;32m      <a href='vscode-notebook-cell:/c%3A/Users/anubh/Documents/Machine%20Learning/Assignment%201/Assignment2_Linear_Regression%20%281%29.ipynb#W0sZmlsZQ%3D%3D?line=4'>5</a>\u001b[0m file_y_test \u001b[39m=\u001b[39m np\u001b[39m.\u001b[39mload(\u001b[39m'\u001b[39m\u001b[39m/content/y_test.npy\u001b[39m\u001b[39m'\u001b[39m)\n\u001b[0;32m      <a href='vscode-notebook-cell:/c%3A/Users/anubh/Documents/Machine%20Learning/Assignment%201/Assignment2_Linear_Regression%20%281%29.ipynb#W0sZmlsZQ%3D%3D?line=5'>6</a>\u001b[0m file_x_train \u001b[39m=\u001b[39m np\u001b[39m.\u001b[39mload(\u001b[39m'\u001b[39m\u001b[39m/content/x_train.npy\u001b[39m\u001b[39m'\u001b[39m)\n",
            "File \u001b[1;32m~\\AppData\\Roaming\\Python\\Python310\\site-packages\\numpy\\lib\\npyio.py:390\u001b[0m, in \u001b[0;36mload\u001b[1;34m(file, mmap_mode, allow_pickle, fix_imports, encoding)\u001b[0m\n\u001b[0;32m    388\u001b[0m     own_fid \u001b[39m=\u001b[39m \u001b[39mFalse\u001b[39;00m\n\u001b[0;32m    389\u001b[0m \u001b[39melse\u001b[39;00m:\n\u001b[1;32m--> 390\u001b[0m     fid \u001b[39m=\u001b[39m stack\u001b[39m.\u001b[39menter_context(\u001b[39mopen\u001b[39;49m(os_fspath(file), \u001b[39m\"\u001b[39;49m\u001b[39mrb\u001b[39;49m\u001b[39m\"\u001b[39;49m))\n\u001b[0;32m    391\u001b[0m     own_fid \u001b[39m=\u001b[39m \u001b[39mTrue\u001b[39;00m\n\u001b[0;32m    393\u001b[0m \u001b[39m# Code to distinguish from NumPy binary files and pickles.\u001b[39;00m\n",
            "\u001b[1;31mFileNotFoundError\u001b[0m: [Errno 2] No such file or directory: '/content/x_test.npy'"
          ]
        }
      ],
      "source": [
        "import numpy as np\n",
        "import matplotlib.pyplot as plt\n",
        "\n",
        "file_x_test = np.load('/content/x_test.npy')\n",
        "file_y_test = np.load('/content/y_test.npy')\n",
        "file_x_train = np.load('/content/x_train.npy')\n",
        "file_y_train = np.load('/content/y_train.npy')"
      ]
    },
    {
      "cell_type": "code",
      "execution_count": null,
      "metadata": {
        "colab": {
          "base_uri": "https://localhost:8080/"
        },
        "id": "y5uIBJA8wQhK",
        "outputId": "f0a96659-9bec-41a6-8fb7-fe23ce5a7c60"
      },
      "outputs": [
        {
          "name": "stdout",
          "output_type": "stream",
          "text": [
            "(100, 1)\n",
            "(100, 1)\n",
            "(100, 1)\n",
            "(100,)\n"
          ]
        }
      ],
      "source": [
        "print(file_x_test.shape)\n",
        "print(file_x_train.shape)\n",
        "print(file_y_test.shape)\n",
        "print(file_y_train.shape)"
      ]
    },
    {
      "cell_type": "code",
      "execution_count": null,
      "metadata": {
        "colab": {
          "base_uri": "https://localhost:8080/"
        },
        "id": "Zo0QWhMZwiDF",
        "outputId": "752dafc5-5a2f-4dc5-b998-87b8e4fa9f24"
      },
      "outputs": [
        {
          "data": {
            "text/plain": [
              "(100, 1)"
            ]
          },
          "execution_count": 102,
          "metadata": {},
          "output_type": "execute_result"
        }
      ],
      "source": [
        "file_y_train = file_y_train.reshape(100,1)\n",
        "file_y_train.shape"
      ]
    },
    {
      "cell_type": "code",
      "execution_count": null,
      "metadata": {
        "colab": {
          "base_uri": "https://localhost:8080/",
          "height": 282
        },
        "id": "2wzXdSiHlCl2",
        "outputId": "3e2338e1-aa40-4f85-97ad-f831e3a3c01a"
      },
      "outputs": [
        {
          "data": {
            "text/plain": [
              "<function matplotlib.pyplot.show(*args, **kw)>"
            ]
          },
          "execution_count": 103,
          "metadata": {},
          "output_type": "execute_result"
        },
        {
          "data": {
            "image/png": "[encoded data removed]",
            "text/plain": [
              "<Figure size 432x288 with 1 Axes>"
            ]
          },
          "metadata": {
            "needs_background": "light"
          },
          "output_type": "display_data"
        }
      ],
      "source": [
        "plt.scatter(file_x_train,file_y_train)\n",
        "plt.show"
      ]
    },
    {
      "cell_type": "code",
      "execution_count": null,
      "metadata": {
        "colab": {
          "base_uri": "https://localhost:8080/",
          "height": 282
        },
        "id": "iRymdlcelDmg",
        "outputId": "70512526-c35e-4249-c160-fdb39e2facb3"
      },
      "outputs": [
        {
          "data": {
            "text/plain": [
              "<function matplotlib.pyplot.show(*args, **kw)>"
            ]
          },
          "execution_count": 104,
          "metadata": {},
          "output_type": "execute_result"
        },
        {
          "data": {
            "image/png": "[encoded data removed]",
            "text/plain": [
              "<Figure size 432x288 with 1 Axes>"
            ]
          },
          "metadata": {
            "needs_background": "light"
          },
          "output_type": "display_data"
        }
      ],
      "source": [
        "plt.scatter(file_x_test,file_y_test)\n",
        "plt.show"
      ]
    },
    {
      "cell_type": "markdown",
      "metadata": {
        "id": "_E-MBJbTfWIS"
      },
      "source": []
    },
    {
      "cell_type": "code",
      "execution_count": null,
      "metadata": {
        "id": "cqeLuu9AC11F"
      },
      "outputs": [],
      "source": [
        "#calculating Hypothesis using gradient descent\n",
        "def Hypothesis(x,weights,bias):\n",
        "  hyp = np.dot(x,weights) + bias\n",
        "  return hyp\n",
        "\n",
        "#formula for Cost funtion\n",
        "def Cost(hypothesis,y):\n",
        "  loss = np.mean((hypothesis-y)**2)\n",
        "  return loss\n"
      ]
    },
    {
      "cell_type": "code",
      "execution_count": null,
      "metadata": {
        "id": "0e2OWVNefVjG"
      },
      "outputs": [],
      "source": [
        "def Linear(X,y):\n",
        "  epoch = 100\n",
        "  learning_rate = 0.1\n",
        "  m = X.shape[0]\n",
        "  bias = 0\n",
        "  weights = np.zeros((X.shape[1],1))\n",
        "  for each_epoch in range(epoch):\n",
        "    h_cap = Hypothesis(X,weights,bias)\n",
        "    cost = Cost(h_cap,y)\n",
        "    dw = (1/m)*np.dot(X.T,(h_cap-y))\n",
        "    db = (1/m)*np.sum((h_cap -y))\n",
        "    weights = weights - (learning_rate * dw)\n",
        "    bias = bias - (learning_rate * db)\n",
        "  return weights, bias\n",
        "\n",
        "def prediction(X,weights,bias):\n",
        "  prediction = np.dot(X,weights) + bias\n",
        "  return prediction"
      ]
    },
    {
      "cell_type": "code",
      "execution_count": null,
      "metadata": {
        "id": "5rV2RvssQFXK"
      },
      "outputs": [],
      "source": [
        "X_train, y_train, X_test, y_test = file_x_train,file_y_train,file_x_test,file_y_test"
      ]
    },
    {
      "cell_type": "markdown",
      "metadata": {},
      "source": []
    },
    {
      "cell_type": "code",
      "execution_count": null,
      "metadata": {
        "id": "7aUUY6o_fK6Z"
      },
      "outputs": [],
      "source": [
        "w,b = Linear(X_train,y_train)\n",
        "model = prediction(X_train,w,b)\n",
        "model1 = prediction(X_test,w,b)"
      ]
    },
    {
      "cell_type": "code",
      "execution_count": null,
      "metadata": {
        "colab": {
          "base_uri": "https://localhost:8080/",
          "height": 265
        },
        "id": "89ZJ6jwDfPc-",
        "outputId": "4456a9be-0f50-41ce-923d-fe366e353c3d"
      },
      "outputs": [
        {
          "data": {
            "image/png": "[encoded data removed]",
            "text/plain": [
              "<Figure size 432x288 with 1 Axes>"
            ]
          },
          "metadata": {
            "needs_background": "light"
          },
          "output_type": "display_data"
        }
      ],
      "source": [
        "plt.plot(X_train,model,'b.')\n",
        "plt.plot(X_test,model1,'r.')\n",
        "plt.show()"
      ]
    },
    {
      "cell_type": "code",
      "execution_count": 1,
      "metadata": {
        "id": "k2tUu_NXHAe4"
      },
      "outputs": [
        {
          "ename": "NameError",
          "evalue": "name 'prediction' is not defined",
          "output_type": "error",
          "traceback": [
            "\u001b[1;31m---------------------------------------------------------------------------\u001b[0m",
            "\u001b[1;31mNameError\u001b[0m                                 Traceback (most recent call last)",
            "\u001b[1;32mc:\\Users\\anubh\\Documents\\Machine Learning\\Assignment 1\\Assignment2_Linear_Regression (1).ipynb Cell 12\u001b[0m in \u001b[0;36m<cell line: 1>\u001b[1;34m()\u001b[0m\n\u001b[1;32m----> <a href='vscode-notebook-cell:/c%3A/Users/anubh/Documents/Machine%20Learning/Assignment%201/Assignment2_Linear_Regression%20%281%29.ipynb#X15sZmlsZQ%3D%3D?line=0'>1</a>\u001b[0m model1 \u001b[39m=\u001b[39m prediction(X_test,w,b)\n\u001b[0;32m      <a href='vscode-notebook-cell:/c%3A/Users/anubh/Documents/Machine%20Learning/Assignment%201/Assignment2_Linear_Regression%20%281%29.ipynb#X15sZmlsZQ%3D%3D?line=1'>2</a>\u001b[0m \u001b[39m# print(model1)\u001b[39;00m\n\u001b[0;32m      <a href='vscode-notebook-cell:/c%3A/Users/anubh/Documents/Machine%20Learning/Assignment%201/Assignment2_Linear_Regression%20%281%29.ipynb#X15sZmlsZQ%3D%3D?line=2'>3</a>\u001b[0m plt\u001b[39m.\u001b[39mscatter(X_test,model1)\n",
            "\u001b[1;31mNameError\u001b[0m: name 'prediction' is not defined"
          ]
        }
      ],
      "source": [
        "model1 = prediction(X_test,w,b)\n",
        "plt.scatter(X_test,model1)\n",
        "plt.show"
      ]
    },
    {
      "cell_type": "code",
      "execution_count": null,
      "metadata": {
        "id": "QaS9RYr-IkDj"
      },
      "outputs": [],
      "source": [
        "def local(X,tau, point,y):\n",
        "  m = X.shape[0]\n",
        "  X_hat = np.append(X,np.ones(m).reshape(m,1),axis =1)\n",
        "  point_hat = np.array([point,1])\n",
        "  w = np.mat(np.identity(m))\n",
        "  for i in range(m):\n",
        "    x = X_hat[i]\n",
        "    d = (-2 * tau * tau)\n",
        "    w[i,i] = np.exp(np.dot((x-point_hat), (x-point_hat).T)/d)\n",
        "  theta = np.linalg.pinv(X_hat.T*(w*X_hat))*(X_hat.T*(w*y))\n",
        "  prediction = np.dot(point_hat,theta)\n",
        "  return theta,prediction"
      ]
    },
    {
      "cell_type": "code",
      "execution_count": null,
      "metadata": {
        "colab": {
          "base_uri": "https://localhost:8080/"
        },
        "id": "vPLrJk1FP-3t",
        "outputId": "6701d40c-cc9e-4051-a409-afddf8e82753"
      },
      "outputs": [
        {
          "name": "stderr",
          "output_type": "stream",
          "text": [
            "/usr/local/lib/python3.7/dist-packages/ipykernel_launcher.py:7: VisibleDeprecationWarning: Creating an ndarray from ragged nested sequences (which is a list-or-tuple of lists-or-tuples-or ndarrays with different lengths or shapes) is deprecated. If you meant to do this, you must specify 'dtype=object' when creating the ndarray.\n",
            "  import sys\n"
          ]
        }
      ],
      "source": [
        "prediction_array = []\n",
        "for point in X_test:\n",
        "  theta, prediction = local(X_train,0.01,point,y_train)\n",
        "  prediction_array.append(prediction)\n"
      ]
    },
    {
      "cell_type": "code",
      "execution_count": null,
      "metadata": {
        "id": "wBgRWZonX86e"
      },
      "outputs": [],
      "source": [
        "prediction_array = np.array(prediction_array).reshape(100,1)"
      ]
    },
    {
      "cell_type": "code",
      "execution_count": null,
      "metadata": {
        "colab": {
          "base_uri": "https://localhost:8080/",
          "height": 265
        },
        "id": "cbYUZBr3SuNS",
        "outputId": "dae6bc36-848e-49cb-c49e-118bfb5cf649"
      },
      "outputs": [
        {
          "data": {
            "image/png": "[encoded data removed]",
            "text/plain": [
              "<Figure size 432x288 with 1 Axes>"
            ]
          },
          "metadata": {
            "needs_background": "light"
          },
          "output_type": "display_data"
        }
      ],
      "source": [
        "plt.plot(X_train,y_train,'b.')\n",
        "plt.plot(X_test,prediction_array,'r.')\n",
        "plt.show()"
      ]
    },
    {
      "cell_type": "code",
      "execution_count": 3,
      "metadata": {
        "id": "MB2gwVszUC5X"
      },
      "outputs": [
        {
          "ename": "ModuleNotFoundError",
          "evalue": "No module named 'pandas'",
          "output_type": "error",
          "traceback": [
            "\u001b[1;31m---------------------------------------------------------------------------\u001b[0m",
            "\u001b[1;31mModuleNotFoundError\u001b[0m                       Traceback (most recent call last)",
            "\u001b[1;32mc:\\Users\\anubh\\Documents\\Machine Learning\\Assignment 1\\Assignment2_Linear_Regression (1).ipynb Cell 17\u001b[0m in \u001b[0;36m<cell line: 1>\u001b[1;34m()\u001b[0m\n\u001b[1;32m----> <a href='vscode-notebook-cell:/c%3A/Users/anubh/Documents/Machine%20Learning/Assignment%201/Assignment2_Linear_Regression%20%281%29.ipynb#X24sZmlsZQ%3D%3D?line=0'>1</a>\u001b[0m \u001b[39mimport\u001b[39;00m \u001b[39mpandas\u001b[39;00m \u001b[39mas\u001b[39;00m \u001b[39mpd\u001b[39;00m\n\u001b[0;32m      <a href='vscode-notebook-cell:/c%3A/Users/anubh/Documents/Machine%20Learning/Assignment%201/Assignment2_Linear_Regression%20%281%29.ipynb#X24sZmlsZQ%3D%3D?line=1'>2</a>\u001b[0m df_data \u001b[39m=\u001b[39m pd\u001b[39m.\u001b[39mread_csv(\u001b[39m'\u001b[39m\u001b[39m/content/Assignment1_Q2_Data.csv\u001b[39m\u001b[39m'\u001b[39m)\n\u001b[0;32m      <a href='vscode-notebook-cell:/c%3A/Users/anubh/Documents/Machine%20Learning/Assignment%201/Assignment2_Linear_Regression%20%281%29.ipynb#X24sZmlsZQ%3D%3D?line=2'>3</a>\u001b[0m df_data\n",
            "\u001b[1;31mModuleNotFoundError\u001b[0m: No module named 'pandas'"
          ]
        }
      ],
      "source": [
        "import pandas as pd\n",
        "df_data = pd.read_csv('/content/Assignment1_Q2_Data.csv')\n",
        "df_data"
      ]
    },
    {
      "cell_type": "code",
      "execution_count": null,
      "metadata": {
        "colab": {
          "base_uri": "https://localhost:8080/"
        },
        "id": "83wmzV6MbEOU",
        "outputId": "2b376af7-3df7-4935-e44e-ae59e7d2834b"
      },
      "outputs": [
        {
          "data": {
            "text/plain": [
              "count    28.000000\n",
              "mean     38.157143\n",
              "std      14.156779\n",
              "min      25.900000\n",
              "25%      29.900000\n",
              "50%      36.400000\n",
              "75%      40.625000\n",
              "max      84.900000\n",
              "Name: Price (1000$), dtype: float64"
            ]
          },
          "execution_count": 116,
          "metadata": {},
          "output_type": "execute_result"
        }
      ],
      "source": [
        "df_data['Price (1000$)'].describe()"
      ]
    },
    {
      "cell_type": "code",
      "execution_count": null,
      "metadata": {
        "colab": {
          "base_uri": "https://localhost:8080/",
          "height": 282
        },
        "id": "7bMBvn89c127",
        "outputId": "dd5db358-8daa-426c-efa8-71394ec40c71"
      },
      "outputs": [
        {
          "data": {
            "text/plain": [
              "<function matplotlib.pyplot.show(*args, **kw)>"
            ]
          },
          "execution_count": 117,
          "metadata": {},
          "output_type": "execute_result"
        },
        {
          "data": {
            "image/png": "[encoded data removed]",
            "text/plain": [
              "<Figure size 432x288 with 1 Axes>"
            ]
          },
          "metadata": {
            "needs_background": "light"
          },
          "output_type": "display_data"
        }
      ],
      "source": [
        "plt.hist(df_data['Price (1000$)'])\n",
        "plt.show"
      ]
    },
    {
      "cell_type": "code",
      "execution_count": null,
      "metadata": {
        "colab": {
          "base_uri": "https://localhost:8080/",
          "height": 282
        },
        "id": "dTn02IVebG8f",
        "outputId": "1f289190-e5dd-48a0-fe5b-def422e97dc7"
      },
      "outputs": [
        {
          "data": {
            "text/plain": [
              "<function matplotlib.pyplot.show(*args, **kw)>"
            ]
          },
          "execution_count": 118,
          "metadata": {},
          "output_type": "execute_result"
        },
        {
          "data": {
            "image/png": "[encoded data removed]",
            "text/plain": [
              "<Figure size 432x288 with 1 Axes>"
            ]
          },
          "metadata": {
            "needs_background": "light"
          },
          "output_type": "display_data"
        }
      ],
      "source": [
        "plt.scatter(df_data['Land Area'],df_data['Price (1000$)'] )\n",
        "plt.show"
      ]
    },
    {
      "cell_type": "code",
      "execution_count": null,
      "metadata": {
        "colab": {
          "base_uri": "https://localhost:8080/",
          "height": 600
        },
        "id": "Q_2S-v-gbpzb",
        "outputId": "ee131b32-a5fd-46dc-8ff6-0bf599a5dc92"
      },
      "outputs": [
        {
          "data": {
            "text/plain": [
              "<matplotlib.axes._subplots.AxesSubplot at 0x7fc75cdc1890>"
            ]
          },
          "execution_count": 119,
          "metadata": {},
          "output_type": "execute_result"
        },
        {
          "data": {
            "image/png": "[encoded data removed]",
            "text/plain": [
              "<Figure size 864x648 with 2 Axes>"
            ]
          },
          "metadata": {
            "needs_background": "light"
          },
          "output_type": "display_data"
        }
      ],
      "source": [
        "corr = df_data.corr()\n",
        "f,ax = plt.subplots(figsize = (12,9))\n",
        "import seaborn as sns\n",
        "sns.heatmap(corr, vmax = .8, square = True)"
      ]
    },
    {
      "cell_type": "code",
      "execution_count": 315,
      "metadata": {
        "id": "6CMZa0xcdtTw"
      },
      "outputs": [],
      "source": [
        "x = df_data[['Local Price', 'Bathrooms', 'Living area', '# Rooms',]]\n",
        "# x = df_data[['Land Area']]\n",
        "x = (x-x.mean())/x.std()\n",
        "# x = np.c_[np.ones(x.shape[0]),x]\n",
        "# print(x)\n",
        "y = df_data[['Price (1000$)']]\n",
        "# print(y.shape)"
      ]
    },
    {
      "cell_type": "code",
      "execution_count": 316,
      "metadata": {
        "id": "7l1oM_pPv-43"
      },
      "outputs": [],
      "source": [
        "\n",
        "y = y.to_numpy()"
      ]
    },
    {
      "cell_type": "code",
      "execution_count": 317,
      "metadata": {
        "id": "bCUIPSctvhk4"
      },
      "outputs": [],
      "source": [
        "w1,b1 = Linear(x,y)"
      ]
    },
    {
      "cell_type": "code",
      "execution_count": 318,
      "metadata": {
        "colab": {
          "base_uri": "https://localhost:8080/"
        },
        "id": "uStKADVj7NO_",
        "outputId": "7f04fe30-e5c2-4780-cf5b-6ad0a77ed1b6"
      },
      "outputs": [
        {
          "data": {
            "text/plain": [
              "(4, 1)"
            ]
          },
          "execution_count": 318,
          "metadata": {},
          "output_type": "execute_result"
        }
      ],
      "source": [
        "w1.shape"
      ]
    },
    {
      "cell_type": "code",
      "execution_count": 319,
      "metadata": {
        "colab": {
          "base_uri": "https://localhost:8080/"
        },
        "id": "ON_G72FBDINc",
        "outputId": "bb61dbd2-09b9-4627-cadb-66076fe78e56"
      },
      "outputs": [
        {
          "data": {
            "text/plain": [
              "38.156129350051025"
            ]
          },
          "execution_count": 319,
          "metadata": {},
          "output_type": "execute_result"
        }
      ],
      "source": [
        "b1"
      ]
    },
    {
      "cell_type": "code",
      "execution_count": 320,
      "metadata": {
        "colab": {
          "base_uri": "https://localhost:8080/"
        },
        "id": "bPazCeVRBgc0",
        "outputId": "f010b5f5-d4af-4926-99da-5745cf40d3d1"
      },
      "outputs": [
        {
          "data": {
            "text/plain": [
              "(28, 4)"
            ]
          },
          "execution_count": 320,
          "metadata": {},
          "output_type": "execute_result"
        }
      ],
      "source": [
        "x.shape"
      ]
    },
    {
      "cell_type": "code",
      "execution_count": 328,
      "metadata": {
        "colab": {
          "base_uri": "https://localhost:8080/"
        },
        "id": "_6YdQorrEsuL",
        "outputId": "d9320bd6-a4eb-4550-ddd6-0cde8ebec285"
      },
      "outputs": [
        {
          "data": {
            "text/plain": [
              "(4, 28)"
            ]
          },
          "execution_count": 328,
          "metadata": {},
          "output_type": "execute_result"
        }
      ],
      "source": [
        "z = np.array(x).T\n",
        "z.shape"
      ]
    },
    {
      "cell_type": "code",
      "execution_count": 329,
      "metadata": {
        "id": "EcSdSjAT0AkL"
      },
      "outputs": [],
      "source": [
        "def predict(w, x,b):\n",
        "    return np.array(x)@ w + b"
      ]
    },
    {
      "cell_type": "code",
      "execution_count": 330,
      "metadata": {
        "id": "xshMOEYAzo7p"
      },
      "outputs": [],
      "source": [
        "def MSE(y, y_pred):\n",
        "  \"\"\"\n",
        "  Get the mean squared error\n",
        "\n",
        "  Parameters\n",
        "  ----------\n",
        "  y: np.array\n",
        "    The Ys values\n",
        "  y_pred: np.array\n",
        "    The predicted Ys values\n",
        "  \n",
        "  Returns\n",
        "  ----------\n",
        "  float\n",
        "    THe mean squared error\n",
        "  \"\"\"\n",
        "  return np.sum(np.square(y - y_pred))/float(len(y))"
      ]
    },
    {
      "cell_type": "code",
      "execution_count": 331,
      "metadata": {
        "colab": {
          "base_uri": "https://localhost:8080/"
        },
        "id": "ywHYf34Xvik0",
        "outputId": "f6a2cc5c-5b22-42cd-ebd1-79678744b1d6"
      },
      "outputs": [
        {
          "data": {
            "text/plain": [
              "12.879607468724956"
            ]
          },
          "execution_count": 331,
          "metadata": {},
          "output_type": "execute_result"
        }
      ],
      "source": [
        "MSE(y,predict(w1,x,b1))"
      ]
    },
    {
      "cell_type": "code",
      "execution_count": 305,
      "metadata": {
        "id": "tutd9QSnz9wv"
      },
      "outputs": [],
      "source": [
        "'''\n",
        "Assignment 1 \n",
        "CS 4783/5783 \n",
        " \n",
        "[Question 1]  \n",
        "\n",
        "2. Yes.\n",
        "b. Yes.\n",
        "    i. We can engineer new feature by introducing new polynomials using normal equation method.\n",
        "    ii. Adding factors in polynomial which apply mathematical operation like multiplication or division to change it to non-linearity. \n",
        " \n",
        "[Question 2] \n",
        " \n",
        "1. MSE 23.764\n",
        "2. Number of rooms, because MSI drops to 12.87, yes we can use this feature\n",
        "3. Age of home because correlation is -0.4\n",
        "\n",
        "\n",
        "[Question 3] \n",
        "  \n",
        "Answer the following questions: \n",
        "1. No\n",
        "2. Question one predicts a linearity for entire dataset whereas in this determines the local weights using every individual data point and then generates a prediction.  \n",
        "\n",
        "'''"
      ]
    }
  ],
  "metadata": {
    "colab": {
      "provenance": []
    },
    "kernelspec": {
      "display_name": "Python 3.10.2 64-bit",
      "language": "python",
      "name": "python3"
    },
    "language_info": {
      "codemirror_mode": {
        "name": "ipython",
        "version": 3
      },
      "file_extension": ".py",
      "mimetype": "text/x-python",
      "name": "python",
      "nbconvert_exporter": "python",
      "pygments_lexer": "ipython3",
      "version": "3.10.2"
    },
    "vscode": {
      "interpreter": {
        "hash": "26de051ba29f2982a8de78e945f0abaf191376122a1563185a90213a26c5da77"
      }
    }
  },
  "nbformat": 4,
  "nbformat_minor": 0
}
